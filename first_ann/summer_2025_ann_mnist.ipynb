{
  "nbformat": 4,
  "nbformat_minor": 0,
  "metadata": {
    "colab": {
      "provenance": [],
      "gpuType": "T4"
    },
    "kernelspec": {
      "name": "python3",
      "display_name": "Python 3"
    },
    "language_info": {
      "name": "python"
    },
    "accelerator": "GPU"
  },
  "cells": [
    {
      "cell_type": "code",
      "execution_count": null,
      "metadata": {
        "colab": {
          "base_uri": "https://localhost:8080/"
        },
        "id": "Ztw8DfI5qcIe",
        "outputId": "daf87274-7966-4952-c0e1-60eeabbe8f11"
      },
      "outputs": [
        {
          "output_type": "stream",
          "name": "stderr",
          "text": [
            "100%|██████████| 9.91M/9.91M [00:02<00:00, 4.57MB/s]\n",
            "100%|██████████| 28.9k/28.9k [00:00<00:00, 133kB/s]\n",
            "100%|██████████| 1.65M/1.65M [00:01<00:00, 1.28MB/s]\n",
            "100%|██████████| 4.54k/4.54k [00:00<00:00, 7.18MB/s]\n"
          ]
        }
      ],
      "source": [
        "from torchvision import datasets, transforms\n",
        "from torch.utils.data import DataLoader\n",
        "\n",
        "transform = transforms.ToTensor()\n",
        "\n",
        "train_dataset = datasets.MNIST(root='./data', train=True, download=True, transform=transform)\n",
        "test_dataset  = datasets.MNIST(root='./data', train=False, download=True, transform=transform)\n"
      ]
    },
    {
      "cell_type": "code",
      "source": [
        "print('transform:', type(transform))\n",
        "print('train_dataset:', type(train_dataset))\n",
        "print('test_dataset:', type(test_dataset))"
      ],
      "metadata": {
        "colab": {
          "base_uri": "https://localhost:8080/"
        },
        "id": "pifdxfmFtr-s",
        "outputId": "43bc4956-d484-443b-b439-af0d31c991a3"
      },
      "execution_count": null,
      "outputs": [
        {
          "output_type": "stream",
          "name": "stdout",
          "text": [
            "transform: <class 'torchvision.transforms.transforms.ToTensor'>\n",
            "train_dataset: <class 'torchvision.datasets.mnist.MNIST'>\n",
            "test_dataset: <class 'torchvision.datasets.mnist.MNIST'>\n"
          ]
        }
      ]
    },
    {
      "cell_type": "code",
      "source": [
        "train_dataset[0][0].shape"
      ],
      "metadata": {
        "colab": {
          "base_uri": "https://localhost:8080/"
        },
        "id": "n9PSay0ot9PX",
        "outputId": "154c7db6-d779-4da2-8700-5dcadc56af9f"
      },
      "execution_count": null,
      "outputs": [
        {
          "output_type": "execute_result",
          "data": {
            "text/plain": [
              "torch.Size([1, 28, 28])"
            ]
          },
          "metadata": {},
          "execution_count": 3
        }
      ]
    },
    {
      "cell_type": "code",
      "source": [
        "from matplotlib import pyplot as plt"
      ],
      "metadata": {
        "id": "IMJhKJo9vvB4"
      },
      "execution_count": null,
      "outputs": []
    },
    {
      "cell_type": "code",
      "source": [
        "plt.imshow(train_dataset[0][0].squeeze(), cmap='gray')"
      ],
      "metadata": {
        "colab": {
          "base_uri": "https://localhost:8080/",
          "height": 448
        },
        "id": "vo-RIoSxxg9y",
        "outputId": "56622ab1-5512-451f-9bd3-787a45a1468d"
      },
      "execution_count": null,
      "outputs": [
        {
          "output_type": "execute_result",
          "data": {
            "text/plain": [
              "<matplotlib.image.AxesImage at 0x78287beb6110>"
            ]
          },
          "metadata": {},
          "execution_count": 5
        },
        {
          "output_type": "display_data",
          "data": {
            "text/plain": [
              "<Figure size 640x480 with 1 Axes>"
            ],
            "image/png": "[encoded data removed]"
          },
          "metadata": {}
        }
      ]
    },
    {
      "cell_type": "code",
      "source": [
        "# Hyperparameters\n",
        "batch_size = 64\n",
        "learning_rate = 0.001\n",
        "num_epochs = 10"
      ],
      "metadata": {
        "id": "w3dHRlH4x69I"
      },
      "execution_count": null,
      "outputs": []
    },
    {
      "cell_type": "code",
      "source": [
        "# data loaders\n",
        "train_loader = DataLoader(train_dataset, batch_size=batch_size, shuffle=True)\n",
        "test_loader  = DataLoader(test_dataset,  batch_size=batch_size, shuffle=False)"
      ],
      "metadata": {
        "id": "sOxPXFjD0Es6"
      },
      "execution_count": null,
      "outputs": []
    },
    {
      "cell_type": "code",
      "source": [
        "import torch\n",
        "from torch import nn, optim\n",
        "import torch.nn.functional as F"
      ],
      "metadata": {
        "id": "E8DanrLI09Ol"
      },
      "execution_count": null,
      "outputs": []
    },
    {
      "cell_type": "code",
      "source": [
        "# setting up gpu\n",
        "device = torch.device('cuda' if torch.cuda.is_available() else 'cpu')"
      ],
      "metadata": {
        "id": "ryxDXoA33v8f"
      },
      "execution_count": null,
      "outputs": []
    },
    {
      "cell_type": "code",
      "source": [
        "# fully connected feed forward network\n",
        "class Fully_Connected(nn.Module):\n",
        "  def __init__(self):\n",
        "    super().__init__()\n",
        "    self.l1 = nn.Linear(784, 784)\n",
        "    self.l2 = nn.Linear(784, 784)\n",
        "    self.l3 = nn.Linear(784, 10)\n",
        "    self.relu = nn.ReLU()\n",
        "\n",
        "  def forward(self, x):\n",
        "    out = self.l1(x)\n",
        "    out = self.relu(out)\n",
        "    out = self.l2(out)\n",
        "    out = self.relu(out)\n",
        "    out = self.l3(out)\n",
        "    return out"
      ],
      "metadata": {
        "id": "hM9ggjdW0xtV"
      },
      "execution_count": null,
      "outputs": []
    },
    {
      "cell_type": "code",
      "source": [
        "import os\n",
        "\n",
        "def save_model_snapshot(model, epoch, num):\n",
        "    os.makedirs('snapshots', exist_ok=True)\n",
        "    torch.save(model.state_dict(), f'snapshots/epoch{epoch}_snap_{num}.pt')"
      ],
      "metadata": {
        "id": "3mDjHeaoZ5sF"
      },
      "execution_count": null,
      "outputs": []
    },
    {
      "cell_type": "code",
      "source": [
        "model = Fully_Connected().to(device)\n",
        "\n",
        "# initially saving the parameters of the models before any descent\n",
        "save_model_snapshot(model, 0, 'inititial')\n",
        "\n",
        "# loss and optimizer\n",
        "criterion = nn.CrossEntropyLoss()\n",
        "optimizer = optim.Adam(model.parameters(), lr=learning_rate)\n",
        "\n",
        "for epoch in range(num_epochs):\n",
        "  for batch_idx, (data, targets) in enumerate(train_loader):\n",
        "    data = data.to(device)\n",
        "    targets = targets.to(device)\n",
        "    data = data.reshape(data.shape[0], -1)\n",
        "\n",
        "    # forward\n",
        "    output = model(data)\n",
        "    loss = criterion(output, targets)\n",
        "\n",
        "    # backward\n",
        "    loss.backward()\n",
        "    optimizer.step()\n",
        "    optimizer.zero_grad()\n",
        "\n",
        "    if batch_idx % 100 == 0:\n",
        "\n",
        "\n",
        "      # checking the accuracy against test set\n",
        "      with torch.no_grad():\n",
        "        num_correct = 0\n",
        "        num_samples = 0\n",
        "        for batch_idx, (data, targets) in enumerate(test_loader):\n",
        "          data = data.to(device)\n",
        "          targets = targets.to(device)\n",
        "          data = data.reshape(data.shape[0], -1)\n",
        "          output = model(data)\n",
        "          _, predictions = output.max(1)\n",
        "          num_correct += (predictions == targets).sum()\n",
        "          num_samples += predictions.size(0)\n",
        "\n",
        "      print(f'Epoch: {epoch+1}/{num_epochs}, Batch: {batch_idx+1}/{len(train_loader)}, Loss: {loss.item():.4f}, Accuracy: {float(num_correct)/float(num_samples)*100:.2f}')\n",
        "\n",
        "    # saving the model after every third epoch\n",
        "    if batch_idx % (len(train_loader)//3) == 0:\n",
        "      save_model_snapshot(model, epoch+1, batch_idx // (len(train_loader)//3) + 1)\n",
        "\n",
        "# save the final model\n",
        "save_model_snapshot(model, num_epochs, 'final')"
      ],
      "metadata": {
        "colab": {
          "base_uri": "https://localhost:8080/"
        },
        "id": "O4ud06oJ9xm2",
        "outputId": "5e13219b-9e4c-4e24-8d70-26469b7e1df1"
      },
      "execution_count": null,
      "outputs": [
        {
          "output_type": "stream",
          "name": "stdout",
          "text": [
            "Epoch: 1/10, Batch: 157/938, Loss: 2.3019, Accuracy: 22.63\n",
            "Epoch: 1/10, Batch: 157/938, Loss: 0.3617, Accuracy: 92.28\n",
            "Epoch: 1/10, Batch: 157/938, Loss: 0.2243, Accuracy: 93.65\n",
            "Epoch: 1/10, Batch: 157/938, Loss: 0.1002, Accuracy: 94.47\n",
            "Epoch: 1/10, Batch: 157/938, Loss: 0.2033, Accuracy: 95.50\n",
            "Epoch: 1/10, Batch: 157/938, Loss: 0.2312, Accuracy: 95.76\n",
            "Epoch: 1/10, Batch: 157/938, Loss: 0.2264, Accuracy: 96.18\n",
            "Epoch: 1/10, Batch: 157/938, Loss: 0.0800, Accuracy: 96.78\n",
            "Epoch: 1/10, Batch: 157/938, Loss: 0.1906, Accuracy: 96.45\n",
            "Epoch: 1/10, Batch: 157/938, Loss: 0.2361, Accuracy: 97.21\n",
            "Epoch: 2/10, Batch: 157/938, Loss: 0.0253, Accuracy: 97.25\n",
            "Epoch: 2/10, Batch: 157/938, Loss: 0.1023, Accuracy: 96.57\n",
            "Epoch: 2/10, Batch: 157/938, Loss: 0.0843, Accuracy: 96.75\n",
            "Epoch: 2/10, Batch: 157/938, Loss: 0.2091, Accuracy: 97.39\n",
            "Epoch: 2/10, Batch: 157/938, Loss: 0.2003, Accuracy: 97.68\n",
            "Epoch: 2/10, Batch: 157/938, Loss: 0.0677, Accuracy: 97.57\n",
            "Epoch: 2/10, Batch: 157/938, Loss: 0.0603, Accuracy: 97.42\n",
            "Epoch: 2/10, Batch: 157/938, Loss: 0.1411, Accuracy: 97.56\n",
            "Epoch: 2/10, Batch: 157/938, Loss: 0.1852, Accuracy: 96.96\n",
            "Epoch: 2/10, Batch: 157/938, Loss: 0.0996, Accuracy: 97.34\n",
            "Epoch: 3/10, Batch: 157/938, Loss: 0.1163, Accuracy: 97.47\n",
            "Epoch: 3/10, Batch: 157/938, Loss: 0.1149, Accuracy: 97.74\n",
            "Epoch: 3/10, Batch: 157/938, Loss: 0.1190, Accuracy: 97.77\n",
            "Epoch: 3/10, Batch: 157/938, Loss: 0.0195, Accuracy: 97.43\n",
            "Epoch: 3/10, Batch: 157/938, Loss: 0.0461, Accuracy: 97.69\n",
            "Epoch: 3/10, Batch: 157/938, Loss: 0.1803, Accuracy: 97.36\n",
            "Epoch: 3/10, Batch: 157/938, Loss: 0.1771, Accuracy: 98.22\n",
            "Epoch: 3/10, Batch: 157/938, Loss: 0.0564, Accuracy: 97.99\n",
            "Epoch: 3/10, Batch: 157/938, Loss: 0.0636, Accuracy: 97.01\n",
            "Epoch: 3/10, Batch: 157/938, Loss: 0.0604, Accuracy: 97.68\n",
            "Epoch: 4/10, Batch: 157/938, Loss: 0.0054, Accuracy: 97.71\n",
            "Epoch: 4/10, Batch: 157/938, Loss: 0.1249, Accuracy: 97.69\n",
            "Epoch: 4/10, Batch: 157/938, Loss: 0.0113, Accuracy: 97.83\n",
            "Epoch: 4/10, Batch: 157/938, Loss: 0.0107, Accuracy: 97.99\n",
            "Epoch: 4/10, Batch: 157/938, Loss: 0.0452, Accuracy: 97.64\n",
            "Epoch: 4/10, Batch: 157/938, Loss: 0.0089, Accuracy: 97.77\n",
            "Epoch: 4/10, Batch: 157/938, Loss: 0.0059, Accuracy: 97.90\n",
            "Epoch: 4/10, Batch: 157/938, Loss: 0.0262, Accuracy: 97.24\n",
            "Epoch: 4/10, Batch: 157/938, Loss: 0.1085, Accuracy: 98.03\n",
            "Epoch: 4/10, Batch: 157/938, Loss: 0.0716, Accuracy: 97.75\n",
            "Epoch: 5/10, Batch: 157/938, Loss: 0.0945, Accuracy: 97.52\n",
            "Epoch: 5/10, Batch: 157/938, Loss: 0.0033, Accuracy: 98.17\n",
            "Epoch: 5/10, Batch: 157/938, Loss: 0.0916, Accuracy: 97.84\n",
            "Epoch: 5/10, Batch: 157/938, Loss: 0.0008, Accuracy: 98.18\n",
            "Epoch: 5/10, Batch: 157/938, Loss: 0.0115, Accuracy: 98.23\n",
            "Epoch: 5/10, Batch: 157/938, Loss: 0.0183, Accuracy: 97.70\n",
            "Epoch: 5/10, Batch: 157/938, Loss: 0.0021, Accuracy: 98.19\n",
            "Epoch: 5/10, Batch: 157/938, Loss: 0.0290, Accuracy: 98.03\n",
            "Epoch: 5/10, Batch: 157/938, Loss: 0.0406, Accuracy: 98.03\n",
            "Epoch: 5/10, Batch: 157/938, Loss: 0.0273, Accuracy: 98.18\n",
            "Epoch: 6/10, Batch: 157/938, Loss: 0.0015, Accuracy: 98.14\n",
            "Epoch: 6/10, Batch: 157/938, Loss: 0.0082, Accuracy: 98.18\n",
            "Epoch: 6/10, Batch: 157/938, Loss: 0.0034, Accuracy: 98.09\n",
            "Epoch: 6/10, Batch: 157/938, Loss: 0.0320, Accuracy: 97.80\n",
            "Epoch: 6/10, Batch: 157/938, Loss: 0.0040, Accuracy: 97.80\n",
            "Epoch: 6/10, Batch: 157/938, Loss: 0.0026, Accuracy: 98.02\n",
            "Epoch: 6/10, Batch: 157/938, Loss: 0.1004, Accuracy: 97.48\n",
            "Epoch: 6/10, Batch: 157/938, Loss: 0.0447, Accuracy: 98.05\n",
            "Epoch: 6/10, Batch: 157/938, Loss: 0.0695, Accuracy: 97.97\n",
            "Epoch: 6/10, Batch: 157/938, Loss: 0.0134, Accuracy: 98.11\n",
            "Epoch: 7/10, Batch: 157/938, Loss: 0.0057, Accuracy: 97.75\n",
            "Epoch: 7/10, Batch: 157/938, Loss: 0.0254, Accuracy: 97.96\n",
            "Epoch: 7/10, Batch: 157/938, Loss: 0.0131, Accuracy: 98.38\n",
            "Epoch: 7/10, Batch: 157/938, Loss: 0.0138, Accuracy: 97.83\n",
            "Epoch: 7/10, Batch: 157/938, Loss: 0.0055, Accuracy: 98.27\n",
            "Epoch: 7/10, Batch: 157/938, Loss: 0.0007, Accuracy: 97.72\n",
            "Epoch: 7/10, Batch: 157/938, Loss: 0.0036, Accuracy: 97.99\n",
            "Epoch: 7/10, Batch: 157/938, Loss: 0.0022, Accuracy: 98.08\n",
            "Epoch: 7/10, Batch: 157/938, Loss: 0.0000, Accuracy: 98.31\n",
            "Epoch: 7/10, Batch: 157/938, Loss: 0.0075, Accuracy: 98.12\n",
            "Epoch: 8/10, Batch: 157/938, Loss: 0.0200, Accuracy: 98.02\n",
            "Epoch: 8/10, Batch: 157/938, Loss: 0.0016, Accuracy: 97.90\n",
            "Epoch: 8/10, Batch: 157/938, Loss: 0.0014, Accuracy: 98.31\n",
            "Epoch: 8/10, Batch: 157/938, Loss: 0.0003, Accuracy: 98.14\n",
            "Epoch: 8/10, Batch: 157/938, Loss: 0.0285, Accuracy: 98.05\n",
            "Epoch: 8/10, Batch: 157/938, Loss: 0.0367, Accuracy: 97.99\n",
            "Epoch: 8/10, Batch: 157/938, Loss: 0.0054, Accuracy: 98.02\n",
            "Epoch: 8/10, Batch: 157/938, Loss: 0.0021, Accuracy: 98.01\n",
            "Epoch: 8/10, Batch: 157/938, Loss: 0.0039, Accuracy: 98.14\n",
            "Epoch: 8/10, Batch: 157/938, Loss: 0.0008, Accuracy: 98.10\n",
            "Epoch: 9/10, Batch: 157/938, Loss: 0.0061, Accuracy: 98.17\n",
            "Epoch: 9/10, Batch: 157/938, Loss: 0.0004, Accuracy: 97.69\n",
            "Epoch: 9/10, Batch: 157/938, Loss: 0.0003, Accuracy: 98.35\n",
            "Epoch: 9/10, Batch: 157/938, Loss: 0.0095, Accuracy: 97.57\n",
            "Epoch: 9/10, Batch: 157/938, Loss: 0.0002, Accuracy: 98.29\n",
            "Epoch: 9/10, Batch: 157/938, Loss: 0.0109, Accuracy: 98.30\n",
            "Epoch: 9/10, Batch: 157/938, Loss: 0.0206, Accuracy: 98.24\n",
            "Epoch: 9/10, Batch: 157/938, Loss: 0.0295, Accuracy: 97.81\n",
            "Epoch: 9/10, Batch: 157/938, Loss: 0.0023, Accuracy: 97.70\n",
            "Epoch: 9/10, Batch: 157/938, Loss: 0.0454, Accuracy: 98.42\n",
            "Epoch: 10/10, Batch: 157/938, Loss: 0.0022, Accuracy: 98.06\n",
            "Epoch: 10/10, Batch: 157/938, Loss: 0.0007, Accuracy: 98.29\n",
            "Epoch: 10/10, Batch: 157/938, Loss: 0.0005, Accuracy: 98.16\n",
            "Epoch: 10/10, Batch: 157/938, Loss: 0.0004, Accuracy: 98.22\n",
            "Epoch: 10/10, Batch: 157/938, Loss: 0.0040, Accuracy: 98.18\n",
            "Epoch: 10/10, Batch: 157/938, Loss: 0.0113, Accuracy: 98.09\n",
            "Epoch: 10/10, Batch: 157/938, Loss: 0.0332, Accuracy: 97.75\n",
            "Epoch: 10/10, Batch: 157/938, Loss: 0.0005, Accuracy: 98.16\n",
            "Epoch: 10/10, Batch: 157/938, Loss: 0.0339, Accuracy: 98.28\n",
            "Epoch: 10/10, Batch: 157/938, Loss: 0.0013, Accuracy: 98.26\n"
          ]
        }
      ]
    },
    {
      "cell_type": "code",
      "source": [
        "import shutil\n",
        "from google.colab import files\n",
        "\n",
        "shutil.make_archive('snapshots', 'zip', 'snapshots')"
      ],
      "metadata": {
        "colab": {
          "base_uri": "https://localhost:8080/",
          "height": 35
        },
        "id": "3avh04NOfR91",
        "outputId": "85da7b63-b5ec-463b-e8a1-69e692638ab8"
      },
      "execution_count": null,
      "outputs": [
        {
          "output_type": "execute_result",
          "data": {
            "text/plain": [
              "'/content/snapshots.zip'"
            ],
            "application/vnd.google.colaboratory.intrinsic+json": {
              "type": "string"
            }
          },
          "metadata": {},
          "execution_count": 16
        }
      ]
    }
  ]
}